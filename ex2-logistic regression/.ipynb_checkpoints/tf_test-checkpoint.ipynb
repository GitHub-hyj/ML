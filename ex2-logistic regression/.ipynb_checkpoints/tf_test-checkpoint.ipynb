{
 "cells": [
  {
   "cell_type": "code",
   "execution_count": 1,
   "metadata": {},
   "outputs": [
    {
     "name": "stdout",
     "output_type": "stream",
     "text": [
      "0 [[ 0.45050842  0.35248867]] [ 0.06221793]\n",
      "20 [[ 0.16773999  0.25972638]] [ 0.23778783]\n",
      "40 [[ 0.11468851  0.21973009]] [ 0.28372779]\n",
      "60 [[ 0.10347458  0.20603037]] [ 0.29559132]\n",
      "80 [[ 0.10088012  0.2017788 ]] [ 0.29878011]\n",
      "100 [[ 0.10023367  0.20051551]] [ 0.29965839]\n",
      "120 [[ 0.10006388  0.20014805]] [ 0.29990369]\n",
      "140 [[ 0.10001777  0.20004229]] [ 0.29997277]\n",
      "160 [[ 0.10000501  0.20001206]] [ 0.29999226]\n",
      "180 [[ 0.10000142  0.20000342]] [ 0.29999781]\n",
      "200 [[ 0.10000038  0.20000096]] [ 0.29999939]\n"
     ]
    }
   ],
   "source": [
    "import tensorflow as tf\n",
    "import numpy as np\n",
    "\n",
    "# 使用 NumPy 生成假数据(phony data), 总共 100 个点.\n",
    "x_data = np.float32(np.random.rand(2, 10))\n",
    "y_data = np.dot([0.1, 0.2], x_data) + 0.3\n",
    "\n",
    "# 构造一个线性模型\n",
    "b = tf.Variable(tf.zeros([1]))\n",
    "W = tf.Variable(tf.random_uniform([1, 2], -1.0, 1.0))\n",
    "y = tf.matmul(W, x_data) + b\n",
    "\n",
    "# 最小化方差\n",
    "loss = tf.reduce_mean(tf.square(y - y_data))\n",
    "optimizer = tf.train.GradientDescentOptimizer(0.5)\n",
    "train = optimizer.minimize(loss)\n",
    "\n",
    "# 初始化变量\n",
    "init = tf.global_variables_initializer()\n",
    "\n",
    "#启动图\n",
    "\n",
    "with tf.Session() as sess:\n",
    "    sess.run(init)\n",
    "    with tf.device(\"/gpu:0\"):\n",
    "        # 拟合平面\n",
    "        for step in range(0, 201):\n",
    "            sess.run(train)\n",
    "            if step % 20 == 0:\n",
    "                print(step, sess.run(W), sess.run(b))"
   ]
  },
  {
   "cell_type": "code",
   "execution_count": null,
   "metadata": {
    "collapsed": true
   },
   "outputs": [],
   "source": []
  }
 ],
 "metadata": {
  "kernelspec": {
   "display_name": "Python 3",
   "language": "python",
   "name": "python3"
  },
  "language_info": {
   "codemirror_mode": {
    "name": "ipython",
    "version": 3
   },
   "file_extension": ".py",
   "mimetype": "text/x-python",
   "name": "python",
   "nbconvert_exporter": "python",
   "pygments_lexer": "ipython3",
   "version": "3.5.4"
  }
 },
 "nbformat": 4,
 "nbformat_minor": 2
}
